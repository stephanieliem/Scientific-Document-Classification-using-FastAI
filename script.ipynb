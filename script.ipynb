{
  "nbformat": 4,
  "nbformat_minor": 0,
  "metadata": {
    "colab": {
      "name": "Group51_Model_Script.ipynb",
      "provenance": [],
      "collapsed_sections": []
    },
    "kernelspec": {
      "name": "python3",
      "display_name": "Python 3"
    },
    "accelerator": "GPU",
    "widgets": {
      "application/vnd.jupyter.widget-state+json": {
        "0eb8ef3f48c04e29994047774bd64811": {
          "model_module": "@jupyter-widgets/controls",
          "model_name": "HBoxModel",
          "state": {
            "_view_name": "HBoxView",
            "_dom_classes": [],
            "_model_name": "HBoxModel",
            "_view_module": "@jupyter-widgets/controls",
            "_model_module_version": "1.5.0",
            "_view_count": null,
            "_view_module_version": "1.5.0",
            "box_style": "",
            "layout": "IPY_MODEL_56c69211d7464c40baa6887a8ad7864a",
            "_model_module": "@jupyter-widgets/controls",
            "children": [
              "IPY_MODEL_e6cbe34883484377a72c331049eb41c7",
              "IPY_MODEL_723b595cda8d46bda0464aba1018a31c"
            ]
          }
        },
        "56c69211d7464c40baa6887a8ad7864a": {
          "model_module": "@jupyter-widgets/base",
          "model_name": "LayoutModel",
          "state": {
            "_view_name": "LayoutView",
            "grid_template_rows": null,
            "right": null,
            "justify_content": null,
            "_view_module": "@jupyter-widgets/base",
            "overflow": null,
            "_model_module_version": "1.2.0",
            "_view_count": null,
            "flex_flow": null,
            "width": null,
            "min_width": null,
            "border": null,
            "align_items": null,
            "bottom": null,
            "_model_module": "@jupyter-widgets/base",
            "top": null,
            "grid_column": null,
            "overflow_y": null,
            "overflow_x": null,
            "grid_auto_flow": null,
            "grid_area": null,
            "grid_template_columns": null,
            "flex": null,
            "_model_name": "LayoutModel",
            "justify_items": null,
            "grid_row": null,
            "max_height": null,
            "align_content": null,
            "visibility": null,
            "align_self": null,
            "height": null,
            "min_height": null,
            "padding": null,
            "grid_auto_rows": null,
            "grid_gap": null,
            "max_width": null,
            "order": null,
            "_view_module_version": "1.2.0",
            "grid_template_areas": null,
            "object_position": null,
            "object_fit": null,
            "grid_auto_columns": null,
            "margin": null,
            "display": null,
            "left": null
          }
        },
        "e6cbe34883484377a72c331049eb41c7": {
          "model_module": "@jupyter-widgets/controls",
          "model_name": "FloatProgressModel",
          "state": {
            "_view_name": "ProgressView",
            "style": "IPY_MODEL_277f6083e296426cbd2e05d760d4f9ef",
            "_dom_classes": [],
            "description": "100%",
            "_model_name": "FloatProgressModel",
            "bar_style": "success",
            "max": 29638,
            "_view_module": "@jupyter-widgets/controls",
            "_model_module_version": "1.5.0",
            "value": 29638,
            "_view_count": null,
            "_view_module_version": "1.5.0",
            "orientation": "horizontal",
            "min": 0,
            "description_tooltip": null,
            "_model_module": "@jupyter-widgets/controls",
            "layout": "IPY_MODEL_d369bc10aaa7468296d33b7c89060db0"
          }
        },
        "723b595cda8d46bda0464aba1018a31c": {
          "model_module": "@jupyter-widgets/controls",
          "model_name": "HTMLModel",
          "state": {
            "_view_name": "HTMLView",
            "style": "IPY_MODEL_1a4ca58d428249cba2cc16b4bd5fd957",
            "_dom_classes": [],
            "description": "",
            "_model_name": "HTMLModel",
            "placeholder": "​",
            "_view_module": "@jupyter-widgets/controls",
            "_model_module_version": "1.5.0",
            "value": " 29638/29638 [08:53&lt;00:00, 55.53it/s]",
            "_view_count": null,
            "_view_module_version": "1.5.0",
            "description_tooltip": null,
            "_model_module": "@jupyter-widgets/controls",
            "layout": "IPY_MODEL_5c5e9d2b4e1b4204b0a7afab7bb35818"
          }
        },
        "277f6083e296426cbd2e05d760d4f9ef": {
          "model_module": "@jupyter-widgets/controls",
          "model_name": "ProgressStyleModel",
          "state": {
            "_view_name": "StyleView",
            "_model_name": "ProgressStyleModel",
            "description_width": "initial",
            "_view_module": "@jupyter-widgets/base",
            "_model_module_version": "1.5.0",
            "_view_count": null,
            "_view_module_version": "1.2.0",
            "bar_color": null,
            "_model_module": "@jupyter-widgets/controls"
          }
        },
        "d369bc10aaa7468296d33b7c89060db0": {
          "model_module": "@jupyter-widgets/base",
          "model_name": "LayoutModel",
          "state": {
            "_view_name": "LayoutView",
            "grid_template_rows": null,
            "right": null,
            "justify_content": null,
            "_view_module": "@jupyter-widgets/base",
            "overflow": null,
            "_model_module_version": "1.2.0",
            "_view_count": null,
            "flex_flow": null,
            "width": null,
            "min_width": null,
            "border": null,
            "align_items": null,
            "bottom": null,
            "_model_module": "@jupyter-widgets/base",
            "top": null,
            "grid_column": null,
            "overflow_y": null,
            "overflow_x": null,
            "grid_auto_flow": null,
            "grid_area": null,
            "grid_template_columns": null,
            "flex": null,
            "_model_name": "LayoutModel",
            "justify_items": null,
            "grid_row": null,
            "max_height": null,
            "align_content": null,
            "visibility": null,
            "align_self": null,
            "height": null,
            "min_height": null,
            "padding": null,
            "grid_auto_rows": null,
            "grid_gap": null,
            "max_width": null,
            "order": null,
            "_view_module_version": "1.2.0",
            "grid_template_areas": null,
            "object_position": null,
            "object_fit": null,
            "grid_auto_columns": null,
            "margin": null,
            "display": null,
            "left": null
          }
        },
        "1a4ca58d428249cba2cc16b4bd5fd957": {
          "model_module": "@jupyter-widgets/controls",
          "model_name": "DescriptionStyleModel",
          "state": {
            "_view_name": "StyleView",
            "_model_name": "DescriptionStyleModel",
            "description_width": "",
            "_view_module": "@jupyter-widgets/base",
            "_model_module_version": "1.5.0",
            "_view_count": null,
            "_view_module_version": "1.2.0",
            "_model_module": "@jupyter-widgets/controls"
          }
        },
        "5c5e9d2b4e1b4204b0a7afab7bb35818": {
          "model_module": "@jupyter-widgets/base",
          "model_name": "LayoutModel",
          "state": {
            "_view_name": "LayoutView",
            "grid_template_rows": null,
            "right": null,
            "justify_content": null,
            "_view_module": "@jupyter-widgets/base",
            "overflow": null,
            "_model_module_version": "1.2.0",
            "_view_count": null,
            "flex_flow": null,
            "width": null,
            "min_width": null,
            "border": null,
            "align_items": null,
            "bottom": null,
            "_model_module": "@jupyter-widgets/base",
            "top": null,
            "grid_column": null,
            "overflow_y": null,
            "overflow_x": null,
            "grid_auto_flow": null,
            "grid_area": null,
            "grid_template_columns": null,
            "flex": null,
            "_model_name": "LayoutModel",
            "justify_items": null,
            "grid_row": null,
            "max_height": null,
            "align_content": null,
            "visibility": null,
            "align_self": null,
            "height": null,
            "min_height": null,
            "padding": null,
            "grid_auto_rows": null,
            "grid_gap": null,
            "max_width": null,
            "order": null,
            "_view_module_version": "1.2.0",
            "grid_template_areas": null,
            "object_position": null,
            "object_fit": null,
            "grid_auto_columns": null,
            "margin": null,
            "display": null,
            "left": null
          }
        },
        "60097735e60e43fc84feb0a46d618dad": {
          "model_module": "@jupyter-widgets/controls",
          "model_name": "HBoxModel",
          "state": {
            "_view_name": "HBoxView",
            "_dom_classes": [],
            "_model_name": "HBoxModel",
            "_view_module": "@jupyter-widgets/controls",
            "_model_module_version": "1.5.0",
            "_view_count": null,
            "_view_module_version": "1.5.0",
            "box_style": "",
            "layout": "IPY_MODEL_bc852a48ae424e2798cb25525080e0fb",
            "_model_module": "@jupyter-widgets/controls",
            "children": [
              "IPY_MODEL_02f1b5817ebf42c8a6b59a62780b0bd3",
              "IPY_MODEL_16b6b508ee254c358304bfbec4af38a0"
            ]
          }
        },
        "bc852a48ae424e2798cb25525080e0fb": {
          "model_module": "@jupyter-widgets/base",
          "model_name": "LayoutModel",
          "state": {
            "_view_name": "LayoutView",
            "grid_template_rows": null,
            "right": null,
            "justify_content": null,
            "_view_module": "@jupyter-widgets/base",
            "overflow": null,
            "_model_module_version": "1.2.0",
            "_view_count": null,
            "flex_flow": null,
            "width": null,
            "min_width": null,
            "border": null,
            "align_items": null,
            "bottom": null,
            "_model_module": "@jupyter-widgets/base",
            "top": null,
            "grid_column": null,
            "overflow_y": null,
            "overflow_x": null,
            "grid_auto_flow": null,
            "grid_area": null,
            "grid_template_columns": null,
            "flex": null,
            "_model_name": "LayoutModel",
            "justify_items": null,
            "grid_row": null,
            "max_height": null,
            "align_content": null,
            "visibility": null,
            "align_self": null,
            "height": null,
            "min_height": null,
            "padding": null,
            "grid_auto_rows": null,
            "grid_gap": null,
            "max_width": null,
            "order": null,
            "_view_module_version": "1.2.0",
            "grid_template_areas": null,
            "object_position": null,
            "object_fit": null,
            "grid_auto_columns": null,
            "margin": null,
            "display": null,
            "left": null
          }
        },
        "02f1b5817ebf42c8a6b59a62780b0bd3": {
          "model_module": "@jupyter-widgets/controls",
          "model_name": "FloatProgressModel",
          "state": {
            "_view_name": "ProgressView",
            "style": "IPY_MODEL_1216040e5875482b8b41f26cb0d66337",
            "_dom_classes": [],
            "description": "100%",
            "_model_name": "FloatProgressModel",
            "bar_style": "success",
            "max": 7410,
            "_view_module": "@jupyter-widgets/controls",
            "_model_module_version": "1.5.0",
            "value": 7410,
            "_view_count": null,
            "_view_module_version": "1.5.0",
            "orientation": "horizontal",
            "min": 0,
            "description_tooltip": null,
            "_model_module": "@jupyter-widgets/controls",
            "layout": "IPY_MODEL_41df0dff505c485aa1b4bfb76d11345d"
          }
        },
        "16b6b508ee254c358304bfbec4af38a0": {
          "model_module": "@jupyter-widgets/controls",
          "model_name": "HTMLModel",
          "state": {
            "_view_name": "HTMLView",
            "style": "IPY_MODEL_f5c15c52fd8e47419073eac136b942b6",
            "_dom_classes": [],
            "description": "",
            "_model_name": "HTMLModel",
            "placeholder": "​",
            "_view_module": "@jupyter-widgets/controls",
            "_model_module_version": "1.5.0",
            "value": " 7410/7410 [02:17&lt;00:00, 53.84it/s]",
            "_view_count": null,
            "_view_module_version": "1.5.0",
            "description_tooltip": null,
            "_model_module": "@jupyter-widgets/controls",
            "layout": "IPY_MODEL_b50dc8e84ae245cca1be1e3f36c5d933"
          }
        },
        "1216040e5875482b8b41f26cb0d66337": {
          "model_module": "@jupyter-widgets/controls",
          "model_name": "ProgressStyleModel",
          "state": {
            "_view_name": "StyleView",
            "_model_name": "ProgressStyleModel",
            "description_width": "initial",
            "_view_module": "@jupyter-widgets/base",
            "_model_module_version": "1.5.0",
            "_view_count": null,
            "_view_module_version": "1.2.0",
            "bar_color": null,
            "_model_module": "@jupyter-widgets/controls"
          }
        },
        "41df0dff505c485aa1b4bfb76d11345d": {
          "model_module": "@jupyter-widgets/base",
          "model_name": "LayoutModel",
          "state": {
            "_view_name": "LayoutView",
            "grid_template_rows": null,
            "right": null,
            "justify_content": null,
            "_view_module": "@jupyter-widgets/base",
            "overflow": null,
            "_model_module_version": "1.2.0",
            "_view_count": null,
            "flex_flow": null,
            "width": null,
            "min_width": null,
            "border": null,
            "align_items": null,
            "bottom": null,
            "_model_module": "@jupyter-widgets/base",
            "top": null,
            "grid_column": null,
            "overflow_y": null,
            "overflow_x": null,
            "grid_auto_flow": null,
            "grid_area": null,
            "grid_template_columns": null,
            "flex": null,
            "_model_name": "LayoutModel",
            "justify_items": null,
            "grid_row": null,
            "max_height": null,
            "align_content": null,
            "visibility": null,
            "align_self": null,
            "height": null,
            "min_height": null,
            "padding": null,
            "grid_auto_rows": null,
            "grid_gap": null,
            "max_width": null,
            "order": null,
            "_view_module_version": "1.2.0",
            "grid_template_areas": null,
            "object_position": null,
            "object_fit": null,
            "grid_auto_columns": null,
            "margin": null,
            "display": null,
            "left": null
          }
        },
        "f5c15c52fd8e47419073eac136b942b6": {
          "model_module": "@jupyter-widgets/controls",
          "model_name": "DescriptionStyleModel",
          "state": {
            "_view_name": "StyleView",
            "_model_name": "DescriptionStyleModel",
            "description_width": "",
            "_view_module": "@jupyter-widgets/base",
            "_model_module_version": "1.5.0",
            "_view_count": null,
            "_view_module_version": "1.2.0",
            "_model_module": "@jupyter-widgets/controls"
          }
        },
        "b50dc8e84ae245cca1be1e3f36c5d933": {
          "model_module": "@jupyter-widgets/base",
          "model_name": "LayoutModel",
          "state": {
            "_view_name": "LayoutView",
            "grid_template_rows": null,
            "right": null,
            "justify_content": null,
            "_view_module": "@jupyter-widgets/base",
            "overflow": null,
            "_model_module_version": "1.2.0",
            "_view_count": null,
            "flex_flow": null,
            "width": null,
            "min_width": null,
            "border": null,
            "align_items": null,
            "bottom": null,
            "_model_module": "@jupyter-widgets/base",
            "top": null,
            "grid_column": null,
            "overflow_y": null,
            "overflow_x": null,
            "grid_auto_flow": null,
            "grid_area": null,
            "grid_template_columns": null,
            "flex": null,
            "_model_name": "LayoutModel",
            "justify_items": null,
            "grid_row": null,
            "max_height": null,
            "align_content": null,
            "visibility": null,
            "align_self": null,
            "height": null,
            "min_height": null,
            "padding": null,
            "grid_auto_rows": null,
            "grid_gap": null,
            "max_width": null,
            "order": null,
            "_view_module_version": "1.2.0",
            "grid_template_areas": null,
            "object_position": null,
            "object_fit": null,
            "grid_auto_columns": null,
            "margin": null,
            "display": null,
            "left": null
          }
        }
      }
    }
  },
  "cells": [
    {
      "cell_type": "markdown",
      "metadata": {
        "id": "M_W8qLtynJJ3"
      },
      "source": [
        "# FIT5149 S2 2020 \n",
        "# Assessment 2: Predicting Journal Article Classifications\n",
        "#### Authored and submitted by Group 51\n",
        "\n",
        "Programming Language: Python 3.6.9 in Google Colaboratory\n",
        "\n",
        "Python Libraries used:\n",
        "- google.colab (1.0.0)\n",
        "- fastai (2.0.18)\n",
        "- numpy (1.18.5)\n",
        "- random (included in python distribution)\n",
        "- os (included in python distribution)\n",
        "- pandas (1.1.4)\n",
        "- nltk (3.2.5)\n",
        "- re (included in python distribution)\n",
        "- string (included in python distribution)\n",
        "- tqdm (included in python distribution)\n",
        "- torch (1.6.0+cu101)\n",
        "- torchvision (0.7.0+cu101)"
      ]
    },
    {
      "cell_type": "markdown",
      "metadata": {
        "id": "c7e9a_xmfec9"
      },
      "source": [
        "**Section 1.**\n",
        "\n",
        "Setting directory locations"
      ]
    },
    {
      "cell_type": "code",
      "metadata": {
        "id": "C-XWEpZSg2Xs"
      },
      "source": [
        "#Set Working Directory\n",
        "\n",
        "###SET WORKING DIRECTORY DETAILS BELOW. CONSULT README FOR MORE INFORMATION\n",
        "# Set drive location to the location of this file. e.g drive_location = 'my drive/submission'\n",
        "drive_selection = 'My Drive/'#'Shared drives/'FIT5149 Assignment 2/'#By default, the code links to your personal drive, adjust this variable to link to shared drives instead.\n",
        "drive_location = 'group51_ass2_impl'#By default, the distribution is assumed to be located on at the top level of your Google Drive folder structure. Adjust this varibale to point to another lcoation.\n",
        "###\n",
        "\n",
        "mount_location = '/content/drive/'\n",
        "home_directory = mount_location + drive_selection + drive_location\n",
        "\n",
        "data_directory = '/data'\n",
        "language_directory = '/language models'\n",
        "model_directory = '/models'\n",
        "output_directory = '/model output'\n",
        "\n",
        "#Declare the source data\n",
        "train_file = '/train_data_labels.csv'\n",
        "test_file = '/test_data.csv'"
      ],
      "execution_count": 1,
      "outputs": []
    },
    {
      "cell_type": "markdown",
      "metadata": {
        "id": "OLGxxEVpfmqw"
      },
      "source": [
        "**Section 2**\n",
        "\n",
        "Mount Google Drive File System, install required package versions and import required packages."
      ]
    },
    {
      "cell_type": "code",
      "metadata": {
        "id": "GP4jd5xaiKm4",
        "outputId": "3c00f769-8922-4ef2-a067-84f52c1c668a",
        "colab": {
          "base_uri": "https://localhost:8080/"
        }
      },
      "source": [
        "#Import the google.colab package to mount the google drive.\n",
        "from google.colab import drive\n",
        "\n",
        "#Mount google drive to make the share drive content available.\n",
        "drive.mount(mount_location)"
      ],
      "execution_count": 2,
      "outputs": [
        {
          "output_type": "stream",
          "text": [
            "Mounted at /content/drive/\n"
          ],
          "name": "stdout"
        }
      ]
    },
    {
      "cell_type": "code",
      "metadata": {
        "id": "gz_NInKBg7w1"
      },
      "source": [
        "#Import required packages\n",
        "import numpy as np\n",
        "import random\n",
        "import os\n",
        "import pandas as pd\n",
        "import nltk\n",
        "import re\n",
        "import string\n",
        "from nltk.stem import WordNetLemmatizer\n",
        "from nltk.corpus import stopwords\n",
        "from nltk.corpus import wordnet\n",
        "from tqdm import notebook"
      ],
      "execution_count": 3,
      "outputs": []
    },
    {
      "cell_type": "code",
      "metadata": {
        "id": "jYSJxIn6ieSN",
        "outputId": "2a0268b2-0f38-40be-dcfb-5c06cc95f74c",
        "colab": {
          "base_uri": "https://localhost:8080/"
        }
      },
      "source": [
        "import nltk\n",
        "nltk.download('stopwords')# Download the english stopwords for use in the data cleaning\n",
        "nltk.download('averaged_perceptron_tagger')# Download the perceptron tag data for use in pre-processing step prior to lemmatization\n",
        "nltk.download('wordnet')# Download the wordnet data for lemmatization"
      ],
      "execution_count": 4,
      "outputs": [
        {
          "output_type": "stream",
          "text": [
            "[nltk_data] Downloading package stopwords to /root/nltk_data...\n",
            "[nltk_data]   Unzipping corpora/stopwords.zip.\n",
            "[nltk_data] Downloading package averaged_perceptron_tagger to\n",
            "[nltk_data]     /root/nltk_data...\n",
            "[nltk_data]   Unzipping taggers/averaged_perceptron_tagger.zip.\n",
            "[nltk_data] Downloading package wordnet to /root/nltk_data...\n",
            "[nltk_data]   Unzipping corpora/wordnet.zip.\n"
          ],
          "name": "stdout"
        },
        {
          "output_type": "execute_result",
          "data": {
            "text/plain": [
              "True"
            ]
          },
          "metadata": {
            "tags": []
          },
          "execution_count": 4
        }
      ]
    },
    {
      "cell_type": "code",
      "metadata": {
        "id": "ZzZMzWja1KzL",
        "outputId": "509e7e54-05a2-4cd2-8880-9d7643bc6bfe",
        "colab": {
          "base_uri": "https://localhost:8080/"
        }
      },
      "source": [
        "#Install torch and torchvision to the below specified versions.\n",
        "!pip install torch==1.6.0+cu101 torchvision==0.7.0+cu101 -f https://download.pytorch.org/whl/torch_stable.html"
      ],
      "execution_count": 5,
      "outputs": [
        {
          "output_type": "stream",
          "text": [
            "Looking in links: https://download.pytorch.org/whl/torch_stable.html\n",
            "Collecting torch==1.6.0+cu101\n",
            "\u001b[?25l  Downloading https://download.pytorch.org/whl/cu101/torch-1.6.0%2Bcu101-cp36-cp36m-linux_x86_64.whl (708.0MB)\n",
            "\u001b[K     |████████████████████████████████| 708.0MB 26kB/s \n",
            "\u001b[?25hCollecting torchvision==0.7.0+cu101\n",
            "\u001b[?25l  Downloading https://download.pytorch.org/whl/cu101/torchvision-0.7.0%2Bcu101-cp36-cp36m-linux_x86_64.whl (5.9MB)\n",
            "\u001b[K     |████████████████████████████████| 5.9MB 4.0MB/s \n",
            "\u001b[?25hRequirement already satisfied: numpy in /usr/local/lib/python3.6/dist-packages (from torch==1.6.0+cu101) (1.18.5)\n",
            "Requirement already satisfied: future in /usr/local/lib/python3.6/dist-packages (from torch==1.6.0+cu101) (0.16.0)\n",
            "Requirement already satisfied: pillow>=4.1.1 in /usr/local/lib/python3.6/dist-packages (from torchvision==0.7.0+cu101) (7.0.0)\n",
            "Installing collected packages: torch, torchvision\n",
            "  Found existing installation: torch 1.7.0+cu101\n",
            "    Uninstalling torch-1.7.0+cu101:\n",
            "      Successfully uninstalled torch-1.7.0+cu101\n",
            "  Found existing installation: torchvision 0.8.1+cu101\n",
            "    Uninstalling torchvision-0.8.1+cu101:\n",
            "      Successfully uninstalled torchvision-0.8.1+cu101\n",
            "Successfully installed torch-1.6.0+cu101 torchvision-0.7.0+cu101\n"
          ],
          "name": "stdout"
        }
      ]
    },
    {
      "cell_type": "code",
      "metadata": {
        "id": "bCgKYzIS9RsV",
        "outputId": "ea6d3316-aacc-4e40-b812-f854b5e04060",
        "colab": {
          "base_uri": "https://localhost:8080/"
        }
      },
      "source": [
        "#Install fatai and fastcore to the below specified versions.\n",
        "!pip install fastai==2.0.16 fastcore==1.2.5\n",
        "\n",
        "#Import required packages\n",
        "from fastai.text.all import *"
      ],
      "execution_count": 6,
      "outputs": [
        {
          "output_type": "stream",
          "text": [
            "Collecting fastai==2.0.16\n",
            "\u001b[?25l  Downloading https://files.pythonhosted.org/packages/28/d9/23222f694d28a6bd798f1c0f3600efd31c623ba63115c11d8fd83c83216e/fastai-2.0.16-py3-none-any.whl (187kB)\n",
            "\u001b[K     |████████████████████████████████| 194kB 7.7MB/s \n",
            "\u001b[?25hCollecting fastcore==1.2.5\n",
            "\u001b[?25l  Downloading https://files.pythonhosted.org/packages/ab/25/3ed10399c2197c4a5d0615ca0c39b2e034bbe5b99bee8217ceb61db571db/fastcore-1.2.5-py3-none-any.whl (45kB)\n",
            "\u001b[K     |████████████████████████████████| 51kB 7.5MB/s \n",
            "\u001b[?25hRequirement already satisfied: scipy in /usr/local/lib/python3.6/dist-packages (from fastai==2.0.16) (1.4.1)\n",
            "Requirement already satisfied: matplotlib in /usr/local/lib/python3.6/dist-packages (from fastai==2.0.16) (3.2.2)\n",
            "Requirement already satisfied: torch>=1.6.0 in /usr/local/lib/python3.6/dist-packages (from fastai==2.0.16) (1.6.0+cu101)\n",
            "Requirement already satisfied: pandas in /usr/local/lib/python3.6/dist-packages (from fastai==2.0.16) (1.1.4)\n",
            "Requirement already satisfied: pyyaml in /usr/local/lib/python3.6/dist-packages (from fastai==2.0.16) (3.13)\n",
            "Requirement already satisfied: spacy in /usr/local/lib/python3.6/dist-packages (from fastai==2.0.16) (2.2.4)\n",
            "Requirement already satisfied: packaging in /usr/local/lib/python3.6/dist-packages (from fastai==2.0.16) (20.4)\n",
            "Requirement already satisfied: pillow in /usr/local/lib/python3.6/dist-packages (from fastai==2.0.16) (7.0.0)\n",
            "Requirement already satisfied: pip in /usr/local/lib/python3.6/dist-packages (from fastai==2.0.16) (19.3.1)\n",
            "Requirement already satisfied: fastprogress>=0.2.4 in /usr/local/lib/python3.6/dist-packages (from fastai==2.0.16) (1.0.0)\n",
            "Requirement already satisfied: torchvision>=0.7 in /usr/local/lib/python3.6/dist-packages (from fastai==2.0.16) (0.7.0+cu101)\n",
            "Requirement already satisfied: scikit-learn in /usr/local/lib/python3.6/dist-packages (from fastai==2.0.16) (0.22.2.post1)\n",
            "Requirement already satisfied: requests in /usr/local/lib/python3.6/dist-packages (from fastai==2.0.16) (2.23.0)\n",
            "Requirement already satisfied: numpy>=1.13.3 in /usr/local/lib/python3.6/dist-packages (from scipy->fastai==2.0.16) (1.18.5)\n",
            "Requirement already satisfied: pyparsing!=2.0.4,!=2.1.2,!=2.1.6,>=2.0.1 in /usr/local/lib/python3.6/dist-packages (from matplotlib->fastai==2.0.16) (2.4.7)\n",
            "Requirement already satisfied: kiwisolver>=1.0.1 in /usr/local/lib/python3.6/dist-packages (from matplotlib->fastai==2.0.16) (1.3.1)\n",
            "Requirement already satisfied: cycler>=0.10 in /usr/local/lib/python3.6/dist-packages (from matplotlib->fastai==2.0.16) (0.10.0)\n",
            "Requirement already satisfied: python-dateutil>=2.1 in /usr/local/lib/python3.6/dist-packages (from matplotlib->fastai==2.0.16) (2.8.1)\n",
            "Requirement already satisfied: future in /usr/local/lib/python3.6/dist-packages (from torch>=1.6.0->fastai==2.0.16) (0.16.0)\n",
            "Requirement already satisfied: pytz>=2017.2 in /usr/local/lib/python3.6/dist-packages (from pandas->fastai==2.0.16) (2018.9)\n",
            "Requirement already satisfied: catalogue<1.1.0,>=0.0.7 in /usr/local/lib/python3.6/dist-packages (from spacy->fastai==2.0.16) (1.0.0)\n",
            "Requirement already satisfied: wasabi<1.1.0,>=0.4.0 in /usr/local/lib/python3.6/dist-packages (from spacy->fastai==2.0.16) (0.8.0)\n",
            "Requirement already satisfied: setuptools in /usr/local/lib/python3.6/dist-packages (from spacy->fastai==2.0.16) (50.3.2)\n",
            "Requirement already satisfied: cymem<2.1.0,>=2.0.2 in /usr/local/lib/python3.6/dist-packages (from spacy->fastai==2.0.16) (2.0.4)\n",
            "Requirement already satisfied: thinc==7.4.0 in /usr/local/lib/python3.6/dist-packages (from spacy->fastai==2.0.16) (7.4.0)\n",
            "Requirement already satisfied: blis<0.5.0,>=0.4.0 in /usr/local/lib/python3.6/dist-packages (from spacy->fastai==2.0.16) (0.4.1)\n",
            "Requirement already satisfied: murmurhash<1.1.0,>=0.28.0 in /usr/local/lib/python3.6/dist-packages (from spacy->fastai==2.0.16) (1.0.3)\n",
            "Requirement already satisfied: plac<1.2.0,>=0.9.6 in /usr/local/lib/python3.6/dist-packages (from spacy->fastai==2.0.16) (1.1.3)\n",
            "Requirement already satisfied: preshed<3.1.0,>=3.0.2 in /usr/local/lib/python3.6/dist-packages (from spacy->fastai==2.0.16) (3.0.2)\n",
            "Requirement already satisfied: tqdm<5.0.0,>=4.38.0 in /usr/local/lib/python3.6/dist-packages (from spacy->fastai==2.0.16) (4.41.1)\n",
            "Requirement already satisfied: srsly<1.1.0,>=1.0.2 in /usr/local/lib/python3.6/dist-packages (from spacy->fastai==2.0.16) (1.0.2)\n",
            "Requirement already satisfied: six in /usr/local/lib/python3.6/dist-packages (from packaging->fastai==2.0.16) (1.15.0)\n",
            "Requirement already satisfied: joblib>=0.11 in /usr/local/lib/python3.6/dist-packages (from scikit-learn->fastai==2.0.16) (0.17.0)\n",
            "Requirement already satisfied: urllib3!=1.25.0,!=1.25.1,<1.26,>=1.21.1 in /usr/local/lib/python3.6/dist-packages (from requests->fastai==2.0.16) (1.24.3)\n",
            "Requirement already satisfied: chardet<4,>=3.0.2 in /usr/local/lib/python3.6/dist-packages (from requests->fastai==2.0.16) (3.0.4)\n",
            "Requirement already satisfied: idna<3,>=2.5 in /usr/local/lib/python3.6/dist-packages (from requests->fastai==2.0.16) (2.10)\n",
            "Requirement already satisfied: certifi>=2017.4.17 in /usr/local/lib/python3.6/dist-packages (from requests->fastai==2.0.16) (2020.6.20)\n",
            "Requirement already satisfied: importlib-metadata>=0.20; python_version < \"3.8\" in /usr/local/lib/python3.6/dist-packages (from catalogue<1.1.0,>=0.0.7->spacy->fastai==2.0.16) (2.0.0)\n",
            "Requirement already satisfied: zipp>=0.5 in /usr/local/lib/python3.6/dist-packages (from importlib-metadata>=0.20; python_version < \"3.8\"->catalogue<1.1.0,>=0.0.7->spacy->fastai==2.0.16) (3.4.0)\n",
            "Installing collected packages: fastcore, fastai\n",
            "  Found existing installation: fastai 1.0.61\n",
            "    Uninstalling fastai-1.0.61:\n",
            "      Successfully uninstalled fastai-1.0.61\n",
            "Successfully installed fastai-2.0.16 fastcore-1.2.5\n"
          ],
          "name": "stdout"
        }
      ]
    },
    {
      "cell_type": "markdown",
      "metadata": {
        "id": "-ghfq4J2f08J"
      },
      "source": [
        "**Section 3**\n",
        "\n",
        "Define and call a seeding funciton that will ensure reproducability."
      ]
    },
    {
      "cell_type": "code",
      "metadata": {
        "id": "xK7hH4Tl8_JH",
        "outputId": "1f654aad-bb8a-4cad-e3c1-cdc029e62748",
        "colab": {
          "base_uri": "https://localhost:8080/"
        }
      },
      "source": [
        "#Configure seed settings for all variables to ensure reproducability\n",
        "def reset_seed():\n",
        "  seed = 123456789\n",
        "\n",
        "  np.random.seed(seed)\n",
        "  random.seed(seed)\n",
        "  os.environ['PYTHONHASHSEED'] = str(seed)\n",
        "  torch.manual_seed(seed)\n",
        "  torch.cuda.manual_seed(seed)\n",
        "\n",
        "  #Adjust the torch backend parameters to avoid the use of non-deterministic algorithms for reproducability.\n",
        "  torch.backends.cudnn.deterministic = True\n",
        "  torch.backends.cudnn.benchmark = False\n",
        "\n",
        "  print('Seed reset to value ', seed)\n",
        "\n",
        "#Set the seed value.\n",
        "reset_seed()"
      ],
      "execution_count": 7,
      "outputs": [
        {
          "output_type": "stream",
          "text": [
            "Seed reset to value  123456789\n"
          ],
          "name": "stdout"
        }
      ]
    },
    {
      "cell_type": "markdown",
      "metadata": {
        "id": "naPaKMt9f8-d"
      },
      "source": [
        "**Section 4**\n",
        "\n",
        "Commence Text pre-processing and cleaning."
      ]
    },
    {
      "cell_type": "code",
      "metadata": {
        "id": "HMbWbJq1gtnv"
      },
      "source": [
        "stopwords = set(stopwords.words('english'))#Load stopwords into a set to improve speed on repeated calls."
      ],
      "execution_count": 8,
      "outputs": []
    },
    {
      "cell_type": "code",
      "metadata": {
        "id": "UbUwREQjhbBv"
      },
      "source": [
        "#Define a class that will manage the cleaning process.\n",
        "#The text_processor class will take test or train data as an input,\n",
        "#Perfrom all neccesary cleaning steps,\n",
        "#Perform lemmatization\n",
        "#And return processed data to calling functions.\n",
        "\n",
        "class text_processor():\n",
        "    def __init__(self):\n",
        "        #Decalre global variables for formating and function use.\n",
        "        self.line_break = '\\n---------------'\n",
        "        print(self.line_break)\n",
        "        print('Creating data dictionaries.')\n",
        "        self.label_dict = {} #label_dict will hold the class labels for the training data\n",
        "        self.abstract_dict = {} #abstract_dict will hold the input abstracts\n",
        "        self.corpus_list = [] #corpus_list will maintain a list of all words in the corpus for statistical purposes\n",
        "        print('Dictionaries created.')\n",
        "        \n",
        "        \n",
        "    def data_setup(self, input_df, data_type = 'train'):\n",
        "        #Data setup takes a dataframe input contain one column of ids and one column of abstracts.\n",
        "        #If the data type is train, then an additional column of labels will exist.\n",
        "        \n",
        "        #Extract the dataframe into lists for easier loading into dictionaries.\n",
        "        print(self.line_break)\n",
        "        print('Extracting ids and abstract from data frame.')\n",
        "        try:\n",
        "            abstract_id = input_df.train_id.to_list()\n",
        "        except:\n",
        "            abstract_id = input_df.test_id.to_list()\n",
        "            \n",
        "        abstract = input_df.abstract.to_list()\n",
        "        print('Labels and Abstract loaded into lists')\n",
        "        \n",
        "        #If the data type is train, then also load the labels.\n",
        "        if data_type == 'train':\n",
        "            print(self.line_break)\n",
        "            print('Extracting Labels from train data.')\n",
        "            label = input_df.label.to_list()\n",
        "            print('Labels extracted.')\n",
        "        \n",
        "        print(self.line_break)\n",
        "        self.total_documents = len(abstract_id)\n",
        "        print('The total number of documents in the corpus is ',self.total_documents,'.')\n",
        "\n",
        "        print(self.line_break)\n",
        "        print('Loading the data into dictionaries')\n",
        "        #Load the data into dictionaries for processing\n",
        "        for n in range(0, len(abstract_id)):\n",
        "            if data_type == 'train':\n",
        "                self.label_dict[abstract_id[n]] = label[n]\n",
        "\n",
        "            self.abstract_dict[abstract_id[n]] = abstract[n]\n",
        "        print('Data loaded.')\n",
        "        \n",
        "        self.data_type = data_type\n",
        "        \n",
        "    def clean_data(self):\n",
        "            \n",
        "        def get_wordnet_pos(word):\n",
        "          #This function takes the input word and returns a pos_tag based on the wordnet package.\n",
        "            tag = nltk.pos_tag([word])[0][1][0].upper()\n",
        "            res_dict = {\"J\": wordnet.ADJ,\n",
        "                        \"N\": wordnet.NOUN,\n",
        "                        \"V\": wordnet.VERB,\n",
        "                        \"R\": wordnet.ADV}\n",
        "\n",
        "            return res_dict.get(tag, wordnet.NOUN)\n",
        "                \n",
        "        \n",
        "        def clean_line(input_string):\n",
        "            #A funtion that will clean a single input string of text.\n",
        "            \n",
        "            #Remove everything that isn't a character or space, repalce with whitespace to split out equations.\n",
        "            input_string = re.sub(r'[^\\w\\s]',' ', input_string)\n",
        "\n",
        "            #Convert all the characters to lower case.\n",
        "            input_string = input_string.lower().split()\n",
        "            \n",
        "            #Strip punctuation.\n",
        "            table = str.maketrans('', '', string.punctuation)#Create a mapping table that maps puncuation to an empty string.\n",
        "            input_string = [word.translate(table) for word in input_string]#Apply the mapping to each word to remove punctuation.\n",
        "            \n",
        "            #Remove any digits\n",
        "            input_string = [re.sub(\"[0-9]\", \"\", word) for word in input_string]\n",
        "            \n",
        "            #Remove stop words.\n",
        "            input_string = [word for word in input_string if word not in stopwords]\n",
        "            input_string = [word for word in input_string if word != '']# Remove any leftover blank entries.\n",
        "            \n",
        "            #Lemmatize all the words to get each words root lemma.\n",
        "            lemmatizer = WordNetLemmatizer()\n",
        "            input_string = [lemmatizer.lemmatize(w, get_wordnet_pos(w)) for w in input_string]\n",
        "            \n",
        "            #Remove words less that 3 characters.\n",
        "            input_string = [word for word in input_string if len(word) > 2]\n",
        "            \n",
        "            #Return the cleaned string to the calling function.\n",
        "            return input_string\n",
        "        \n",
        "        \n",
        "        #Create a list to hold all words from the text.\n",
        "        self.corpus_list = []\n",
        "        \n",
        "        print(self.line_break)\n",
        "        print('Cleaning Abstract Data.')\n",
        "        #Set up a progress bar as pbar equal to the length of the absract dict.\n",
        "        with notebook.tqdm(total=len(self.abstract_dict)) as pbar:\n",
        "\n",
        "            #iterate through each abstract\n",
        "            for key in self.abstract_dict:\n",
        "                #Send each abstract to the cleaning function and use the returned clean text in its place.\n",
        "                self.abstract_dict[key] = clean_line(self.abstract_dict[key])\n",
        "                \n",
        "                #Add the unique list of the words generated in the abstract to the corpus_list.\n",
        "                self.corpus_list += list(set(self.abstract_dict[key]))\n",
        "                \n",
        "                #Update the progress bar by 1.\n",
        "                pbar.update(1)\n",
        "                \n",
        "        print('Cleaning Complete.')\n",
        "\n",
        "    def get_result(self):\n",
        "        #This function consolidates the cleaned data and returns it to the calling function as a list, where each element is a label, abstract pair for train data\n",
        "        #And an absract only for test data.\n",
        "        output_list = []\n",
        "        \n",
        "        for key in self.abstract_dict:\n",
        "            \n",
        "            if self.data_type == 'train':\n",
        "                #Insert the label to the front of the list\n",
        "                self.abstract_dict[key].insert(0, self.label_dict[key])\n",
        "            \n",
        "            #Insert the id to the front of the list\n",
        "            self.abstract_dict[key].insert(0, str(key))\n",
        "            self.abstract_dict[key].append('\\n')\n",
        "            \n",
        "            output_list.append(','.join(self.abstract_dict[key]))\n",
        "\n",
        "        return output_list"
      ],
      "execution_count": 9,
      "outputs": []
    },
    {
      "cell_type": "code",
      "metadata": {
        "id": "QBh4ffU3iirc",
        "outputId": "e36b08fe-5ef2-46da-b6e3-cbf31e14b134",
        "colab": {
          "base_uri": "https://localhost:8080/",
          "height": 484,
          "referenced_widgets": [
            "0eb8ef3f48c04e29994047774bd64811",
            "56c69211d7464c40baa6887a8ad7864a",
            "e6cbe34883484377a72c331049eb41c7",
            "723b595cda8d46bda0464aba1018a31c",
            "277f6083e296426cbd2e05d760d4f9ef",
            "d369bc10aaa7468296d33b7c89060db0",
            "1a4ca58d428249cba2cc16b4bd5fd957",
            "5c5e9d2b4e1b4204b0a7afab7bb35818"
          ]
        }
      },
      "source": [
        "#Instantiate the text_processor class.\n",
        "train_corpus = text_processor()\n",
        "#Load in the raw training data for the text processor using pandas.\n",
        "train_df = pd.read_csv(home_directory+train_file)\n",
        "#Pass the test data to the text_processor funciton, note that the function assumes data is training data by default.\n",
        "train_corpus.data_setup(train_df)\n",
        "#Clean the input data.\n",
        "train_corpus.clean_data()\n",
        "#Return the cleaned test data to a list.\n",
        "cleaned_data_train = train_corpus.get_result()"
      ],
      "execution_count": 10,
      "outputs": [
        {
          "output_type": "stream",
          "text": [
            "\n",
            "---------------\n",
            "Creating data dictionaries.\n",
            "Dictionaries created.\n",
            "\n",
            "---------------\n",
            "Extracting ids and abstract from data frame.\n",
            "Labels and Abstract loaded into lists\n",
            "\n",
            "---------------\n",
            "Extracting Labels from train data.\n",
            "Labels extracted.\n",
            "\n",
            "---------------\n",
            "The total number of documents in the corpus is  29638 .\n",
            "\n",
            "---------------\n",
            "Loading the data into dictionaries\n",
            "Data loaded.\n",
            "\n",
            "---------------\n",
            "Cleaning Abstract Data.\n"
          ],
          "name": "stdout"
        },
        {
          "output_type": "display_data",
          "data": {
            "application/vnd.jupyter.widget-view+json": {
              "model_id": "0eb8ef3f48c04e29994047774bd64811",
              "version_minor": 0,
              "version_major": 2
            },
            "text/plain": [
              "HBox(children=(FloatProgress(value=0.0, max=29638.0), HTML(value='')))"
            ]
          },
          "metadata": {
            "tags": []
          }
        },
        {
          "output_type": "stream",
          "text": [
            "\n",
            "Cleaning Complete.\n"
          ],
          "name": "stdout"
        }
      ]
    },
    {
      "cell_type": "code",
      "metadata": {
        "id": "ahHlSgPYnm5h",
        "outputId": "d0e624c6-c0ab-4567-ec75-72cda2622348",
        "colab": {
          "base_uri": "https://localhost:8080/",
          "height": 411,
          "referenced_widgets": [
            "60097735e60e43fc84feb0a46d618dad",
            "bc852a48ae424e2798cb25525080e0fb",
            "02f1b5817ebf42c8a6b59a62780b0bd3",
            "16b6b508ee254c358304bfbec4af38a0",
            "1216040e5875482b8b41f26cb0d66337",
            "41df0dff505c485aa1b4bfb76d11345d",
            "f5c15c52fd8e47419073eac136b942b6",
            "b50dc8e84ae245cca1be1e3f36c5d933"
          ]
        }
      },
      "source": [
        "#Instantiate the text_processor class.\n",
        "test_corpus = text_processor()\n",
        "#Load in the raw training data for the text processor using pandas.\n",
        "test_df = pd.read_csv(home_directory + test_file)\n",
        "#Pass the test data to the text_processor funciton, ensuring it is identified as test data.\n",
        "test_corpus.data_setup(test_df, 'test')\n",
        "#Clean the input data.\n",
        "test_corpus.clean_data()\n",
        "#Return the cleaned test data to a list.\n",
        "cleaned_data_test = test_corpus.get_result()"
      ],
      "execution_count": 11,
      "outputs": [
        {
          "output_type": "stream",
          "text": [
            "\n",
            "---------------\n",
            "Creating data dictionaries.\n",
            "Dictionaries created.\n",
            "\n",
            "---------------\n",
            "Extracting ids and abstract from data frame.\n",
            "Labels and Abstract loaded into lists\n",
            "\n",
            "---------------\n",
            "The total number of documents in the corpus is  7410 .\n",
            "\n",
            "---------------\n",
            "Loading the data into dictionaries\n",
            "Data loaded.\n",
            "\n",
            "---------------\n",
            "Cleaning Abstract Data.\n"
          ],
          "name": "stdout"
        },
        {
          "output_type": "display_data",
          "data": {
            "application/vnd.jupyter.widget-view+json": {
              "model_id": "60097735e60e43fc84feb0a46d618dad",
              "version_minor": 0,
              "version_major": 2
            },
            "text/plain": [
              "HBox(children=(FloatProgress(value=0.0, max=7410.0), HTML(value='')))"
            ]
          },
          "metadata": {
            "tags": []
          }
        },
        {
          "output_type": "stream",
          "text": [
            "\n",
            "Cleaning Complete.\n"
          ],
          "name": "stdout"
        }
      ]
    },
    {
      "cell_type": "code",
      "metadata": {
        "id": "bqcnYht2kqv7"
      },
      "source": [
        "#Process the cleaned data into the neccessary format for transition into the fastai package.\n",
        "\n",
        "clean_train = []\n",
        "\n",
        "#Split each clean record into individual tokens.\n",
        "for line in cleaned_data_train:\n",
        "    clean_train.append(line.strip().split(','))\n",
        "\n",
        "#Remove the train_id value (this will be the same as the index when we move into a dataframe.)\n",
        "for n in range(0,len(clean_train)):\n",
        "    clean_train[n] = clean_train[n][1:]"
      ],
      "execution_count": 12,
      "outputs": []
    },
    {
      "cell_type": "code",
      "metadata": {
        "id": "8bgfKcbNk0iu"
      },
      "source": [
        "train_df = pd.DataFrame(clean_train)# Load the abstract and label into a dataframe\n",
        "#Create a new column which takes the abstract words only and omits the label into a new column.\n",
        "train_df['Words'] = train_df[train_df.columns[1:]].apply(\n",
        "    lambda x: ' '.join(x.dropna().astype(str)),\n",
        "    axis=1)\n",
        "#Remove the previously loaded words which were represented as columns.\n",
        "train_df.drop(train_df.iloc[:,1:281], inplace=True, axis=1)\n",
        "\n",
        "#Rename the labels column to an appropriate title.\n",
        "train_df=train_df.rename(columns = {0:'Label'})"
      ],
      "execution_count": 13,
      "outputs": []
    },
    {
      "cell_type": "code",
      "metadata": {
        "id": "aCw9VqiXk3Ni",
        "outputId": "0e9a4a10-6590-4156-8967-8d1371cfcf42",
        "colab": {
          "base_uri": "https://localhost:8080/",
          "height": 555
        }
      },
      "source": [
        "#Return the first 5 rows of the training data for visual inspection.\n",
        "train_df.head()"
      ],
      "execution_count": 14,
      "outputs": [
        {
          "output_type": "execute_result",
          "data": {
            "text/html": [
              "<div>\n",
              "<style scoped>\n",
              "    .dataframe tbody tr th:only-of-type {\n",
              "        vertical-align: middle;\n",
              "    }\n",
              "\n",
              "    .dataframe tbody tr th {\n",
              "        vertical-align: top;\n",
              "    }\n",
              "\n",
              "    .dataframe thead th {\n",
              "        text-align: right;\n",
              "    }\n",
              "</style>\n",
              "<table border=\"1\" class=\"dataframe\">\n",
              "  <thead>\n",
              "    <tr style=\"text-align: right;\">\n",
              "      <th></th>\n",
              "      <th>Label</th>\n",
              "      <th>Words</th>\n",
              "    </tr>\n",
              "  </thead>\n",
              "  <tbody>\n",
              "    <tr>\n",
              "      <th>0</th>\n",
              "      <td>cs</td>\n",
              "      <td>save special case current training method generative adversarial network gans best guaranteed converge local nash equilibrium lne lnes however arbitrarily far actual nash equilibrium implies guarantee quality found generator classifier paper proposes model gans explicitly finite game mixed strategy thereby ensure every lne formulation propose solution method proven monotonically converge resource bound nash equilibrium increase computational resource find well solution empirically demonstrate method less prone typical gan problem mode collapse produce solution less exploitable produce gans...</td>\n",
              "    </tr>\n",
              "    <tr>\n",
              "      <th>1</th>\n",
              "      <td>math.DS</td>\n",
              "      <td>consider dynamical system finitely many equilibrium perturbed small noise addition control expensive control control process optimal ergodic criterion run cost consists sum control effort penalty function state space study optimal stationary distribution control process variance noise becomes vanishingly small show depend relative magnitude noise variance run cost control one identify three regime optimal control force invariant distribution process concentrate near equilibrium characterize accord regime also obtain moment bound optimal stationary distribution moreover show vicinity point ...</td>\n",
              "    </tr>\n",
              "    <tr>\n",
              "      <th>2</th>\n",
              "      <td>cs</td>\n",
              "      <td>consider discrete dynamical system ant like agent engage sequence pursuit graph environment agent emerge one one equal time interval source vertex pursue greedily attempt close distance immediate predecessor agent emerge arrive destination point pursuit investigate continuous set discrete time underlie environment regular grid setting agent walk provably converge shortest path furthermore assume certain natural probability distribution move choice agent grid case multiple shortest path agent predecessor walk converge uniform distribution shortest path study evolution agent walk general fin...</td>\n",
              "    </tr>\n",
              "    <tr>\n",
              "      <th>3</th>\n",
              "      <td>cs</td>\n",
              "      <td>retrofit technique inject external resource word representation compensate weakness distribute representation semantic relational knowledge word implicitly retrofit word vector expansional technique outperforms retrofit word similarity task word vector generalization paper propose unsupervised extrofitting expansional retrofit extrofitting without external semantic lexicon also propose deep extrofitting depth stack extrofitting combination extrofitting retrofit experiment glove show method outperform previous method word similarity task require synonym external resource lastly show effect ...</td>\n",
              "    </tr>\n",
              "    <tr>\n",
              "      <th>4</th>\n",
              "      <td>cs</td>\n",
              "      <td>approach decision make uncertainty belief function framework review method show blend criterion decision ignorance maximum expect utility principle bayesian decision theory distinction make method construct complete preference relation among act allow incomparability act due lack information method developed imprecise probability framework applicable dempster shafer context also review shafer constructive decision theory substitute notion goal utility described contrast approach paper end point need carry deeper investigation fundamental issue related decision make belief function ass desc...</td>\n",
              "    </tr>\n",
              "  </tbody>\n",
              "</table>\n",
              "</div>"
            ],
            "text/plain": [
              "     Label                                                                                                                                                                                                                                                                                                                                                                                                                                                                                                                                                                                                                    Words\n",
              "0       cs  save special case current training method generative adversarial network gans best guaranteed converge local nash equilibrium lne lnes however arbitrarily far actual nash equilibrium implies guarantee quality found generator classifier paper proposes model gans explicitly finite game mixed strategy thereby ensure every lne formulation propose solution method proven monotonically converge resource bound nash equilibrium increase computational resource find well solution empirically demonstrate method less prone typical gan problem mode collapse produce solution less exploitable produce gans...\n",
              "1  math.DS  consider dynamical system finitely many equilibrium perturbed small noise addition control expensive control control process optimal ergodic criterion run cost consists sum control effort penalty function state space study optimal stationary distribution control process variance noise becomes vanishingly small show depend relative magnitude noise variance run cost control one identify three regime optimal control force invariant distribution process concentrate near equilibrium characterize accord regime also obtain moment bound optimal stationary distribution moreover show vicinity point ...\n",
              "2       cs  consider discrete dynamical system ant like agent engage sequence pursuit graph environment agent emerge one one equal time interval source vertex pursue greedily attempt close distance immediate predecessor agent emerge arrive destination point pursuit investigate continuous set discrete time underlie environment regular grid setting agent walk provably converge shortest path furthermore assume certain natural probability distribution move choice agent grid case multiple shortest path agent predecessor walk converge uniform distribution shortest path study evolution agent walk general fin...\n",
              "3       cs  retrofit technique inject external resource word representation compensate weakness distribute representation semantic relational knowledge word implicitly retrofit word vector expansional technique outperforms retrofit word similarity task word vector generalization paper propose unsupervised extrofitting expansional retrofit extrofitting without external semantic lexicon also propose deep extrofitting depth stack extrofitting combination extrofitting retrofit experiment glove show method outperform previous method word similarity task require synonym external resource lastly show effect ...\n",
              "4       cs  approach decision make uncertainty belief function framework review method show blend criterion decision ignorance maximum expect utility principle bayesian decision theory distinction make method construct complete preference relation among act allow incomparability act due lack information method developed imprecise probability framework applicable dempster shafer context also review shafer constructive decision theory substitute notion goal utility described contrast approach paper end point need carry deeper investigation fundamental issue related decision make belief function ass desc..."
            ]
          },
          "metadata": {
            "tags": []
          },
          "execution_count": 14
        }
      ]
    },
    {
      "cell_type": "code",
      "metadata": {
        "id": "68PkAnCqldkS"
      },
      "source": [
        "#remove the \"there is none\" row\n",
        "train_df = train_df.drop(train_df.index[26822])"
      ],
      "execution_count": 15,
      "outputs": []
    },
    {
      "cell_type": "code",
      "metadata": {
        "id": "kwk9vNvTk57R"
      },
      "source": [
        "#Create a mask for identifying samples for our validation set by randomly selecting rows withing the dataframe.\n",
        "#The mask will create an approximate 80-20 split for training vs validation data.\n",
        "msk = np.random.rand(len(train_df)) > 0.8"
      ],
      "execution_count": 16,
      "outputs": []
    },
    {
      "cell_type": "code",
      "metadata": {
        "id": "gsw_g-Cvk8Iz"
      },
      "source": [
        "#Create a new column that identifies the rows that will be held back for validation.\n",
        "train_df['test'] = msk"
      ],
      "execution_count": 17,
      "outputs": []
    },
    {
      "cell_type": "code",
      "metadata": {
        "id": "BfZ8rTUYk_QG",
        "outputId": "0de763ba-9170-4b31-c64e-884dab546082",
        "colab": {
          "base_uri": "https://localhost:8080/",
          "height": 623
        }
      },
      "source": [
        "#Return the first 5 rows of the training data for visual inspection.\n",
        "train_df.head()"
      ],
      "execution_count": 18,
      "outputs": [
        {
          "output_type": "execute_result",
          "data": {
            "text/html": [
              "<div>\n",
              "<style scoped>\n",
              "    .dataframe tbody tr th:only-of-type {\n",
              "        vertical-align: middle;\n",
              "    }\n",
              "\n",
              "    .dataframe tbody tr th {\n",
              "        vertical-align: top;\n",
              "    }\n",
              "\n",
              "    .dataframe thead th {\n",
              "        text-align: right;\n",
              "    }\n",
              "</style>\n",
              "<table border=\"1\" class=\"dataframe\">\n",
              "  <thead>\n",
              "    <tr style=\"text-align: right;\">\n",
              "      <th></th>\n",
              "      <th>Label</th>\n",
              "      <th>Words</th>\n",
              "      <th>test</th>\n",
              "    </tr>\n",
              "  </thead>\n",
              "  <tbody>\n",
              "    <tr>\n",
              "      <th>0</th>\n",
              "      <td>cs</td>\n",
              "      <td>save special case current training method generative adversarial network gans best guaranteed converge local nash equilibrium lne lnes however arbitrarily far actual nash equilibrium implies guarantee quality found generator classifier paper proposes model gans explicitly finite game mixed strategy thereby ensure every lne formulation propose solution method proven monotonically converge resource bound nash equilibrium increase computational resource find well solution empirically demonstrate method less prone typical gan problem mode collapse produce solution less exploitable produce gans...</td>\n",
              "      <td>False</td>\n",
              "    </tr>\n",
              "    <tr>\n",
              "      <th>1</th>\n",
              "      <td>math.DS</td>\n",
              "      <td>consider dynamical system finitely many equilibrium perturbed small noise addition control expensive control control process optimal ergodic criterion run cost consists sum control effort penalty function state space study optimal stationary distribution control process variance noise becomes vanishingly small show depend relative magnitude noise variance run cost control one identify three regime optimal control force invariant distribution process concentrate near equilibrium characterize accord regime also obtain moment bound optimal stationary distribution moreover show vicinity point ...</td>\n",
              "      <td>False</td>\n",
              "    </tr>\n",
              "    <tr>\n",
              "      <th>2</th>\n",
              "      <td>cs</td>\n",
              "      <td>consider discrete dynamical system ant like agent engage sequence pursuit graph environment agent emerge one one equal time interval source vertex pursue greedily attempt close distance immediate predecessor agent emerge arrive destination point pursuit investigate continuous set discrete time underlie environment regular grid setting agent walk provably converge shortest path furthermore assume certain natural probability distribution move choice agent grid case multiple shortest path agent predecessor walk converge uniform distribution shortest path study evolution agent walk general fin...</td>\n",
              "      <td>False</td>\n",
              "    </tr>\n",
              "    <tr>\n",
              "      <th>3</th>\n",
              "      <td>cs</td>\n",
              "      <td>retrofit technique inject external resource word representation compensate weakness distribute representation semantic relational knowledge word implicitly retrofit word vector expansional technique outperforms retrofit word similarity task word vector generalization paper propose unsupervised extrofitting expansional retrofit extrofitting without external semantic lexicon also propose deep extrofitting depth stack extrofitting combination extrofitting retrofit experiment glove show method outperform previous method word similarity task require synonym external resource lastly show effect ...</td>\n",
              "      <td>False</td>\n",
              "    </tr>\n",
              "    <tr>\n",
              "      <th>4</th>\n",
              "      <td>cs</td>\n",
              "      <td>approach decision make uncertainty belief function framework review method show blend criterion decision ignorance maximum expect utility principle bayesian decision theory distinction make method construct complete preference relation among act allow incomparability act due lack information method developed imprecise probability framework applicable dempster shafer context also review shafer constructive decision theory substitute notion goal utility described contrast approach paper end point need carry deeper investigation fundamental issue related decision make belief function ass desc...</td>\n",
              "      <td>False</td>\n",
              "    </tr>\n",
              "  </tbody>\n",
              "</table>\n",
              "</div>"
            ],
            "text/plain": [
              "     Label  ...   test\n",
              "0       cs  ...  False\n",
              "1  math.DS  ...  False\n",
              "2       cs  ...  False\n",
              "3       cs  ...  False\n",
              "4       cs  ...  False\n",
              "\n",
              "[5 rows x 3 columns]"
            ]
          },
          "metadata": {
            "tags": []
          },
          "execution_count": 18
        }
      ]
    },
    {
      "cell_type": "code",
      "metadata": {
        "id": "TLnV0D5klk9m"
      },
      "source": [
        "#The training data has now been processed, save a copy to the data folder for record keeping purposes.\n",
        "train_df.to_csv(home_directory+data_directory+'/clean_train_dataset.csv',index=False)"
      ],
      "execution_count": 19,
      "outputs": []
    },
    {
      "cell_type": "code",
      "metadata": {
        "id": "YlJfg1kzmeM1"
      },
      "source": [
        "#Process the cleaned test data into the neccessary format for transition into the fastai package.\n",
        "\n",
        "clean_test = []\n",
        "\n",
        "#Split each clean record into individual tokens.\n",
        "for line in cleaned_data_test:\n",
        "    clean_test.append(line.strip().split(','))\n",
        "\n",
        "#Remove the test_id value (this will be the same as the index when we move into a dataframe.)\n",
        "for n in range(0,len(clean_test)):\n",
        "    clean_test[n] = clean_test[n][1:]"
      ],
      "execution_count": 20,
      "outputs": []
    },
    {
      "cell_type": "code",
      "metadata": {
        "id": "XZIzPtQDpMc3"
      },
      "source": [
        "# testing data\n",
        "test_df = pd.DataFrame(clean_test)# Load the abstract and label into a dataframe\n",
        "#Create a new column which takes the abstract words and joins them into a single column.\n",
        "test_df['text'] = test_df[test_df.columns[0:]].apply(\n",
        "    lambda x: ' '.join(x.dropna().astype(str)),\n",
        "    axis=1)\n",
        "#Remove the previously loaded words which were represented as columns.\n",
        "test_df.drop(test_df.iloc[:,0:280], inplace=True, axis=1)"
      ],
      "execution_count": 21,
      "outputs": []
    },
    {
      "cell_type": "code",
      "metadata": {
        "id": "qDwbj3uqpTBA",
        "outputId": "5674f4d7-5636-4d73-edd4-640b97addaf0",
        "colab": {
          "base_uri": "https://localhost:8080/",
          "height": 1000
        }
      },
      "source": [
        "#Return the first five records for visual inspection.\n",
        "test_df"
      ],
      "execution_count": 22,
      "outputs": [
        {
          "output_type": "execute_result",
          "data": {
            "text/html": [
              "<div>\n",
              "<style scoped>\n",
              "    .dataframe tbody tr th:only-of-type {\n",
              "        vertical-align: middle;\n",
              "    }\n",
              "\n",
              "    .dataframe tbody tr th {\n",
              "        vertical-align: top;\n",
              "    }\n",
              "\n",
              "    .dataframe thead th {\n",
              "        text-align: right;\n",
              "    }\n",
              "</style>\n",
              "<table border=\"1\" class=\"dataframe\">\n",
              "  <thead>\n",
              "    <tr style=\"text-align: right;\">\n",
              "      <th></th>\n",
              "      <th>text</th>\n",
              "    </tr>\n",
              "  </thead>\n",
              "  <tbody>\n",
              "    <tr>\n",
              "      <th>0</th>\n",
              "      <td>method model average become important tool deal model uncertainty example situation large amount different theory exist common economics model average natural formal response model uncertainty bayesian framework paper deal bayesian model average important role prior assumption bayesian procedure highlight addition frequentist model average method also discuss numerical method implement method explain point reader freely available computational resource main focus uncertainty regard choice covariates normal linear regression model paper also cover challenge setting particular emphasis sampl...</td>\n",
              "    </tr>\n",
              "    <tr>\n",
              "      <th>1</th>\n",
              "      <td>unmanned aerial vehicle uav system increasingly use broad range scenario application however deployment urban area pose important technical challenge one prominent concern robustness communication ground station uavs highly dynamic crowd spectrum indeed compete data stream may create local temporary congestion impair ground station control uavs main contribution paper robust multi path communication framework uav system framework continuously probe performance multiple wireless multi hop path ground station uav dynamically selects path provide best performance support timely control numeri...</td>\n",
              "    </tr>\n",
              "    <tr>\n",
              "      <th>2</th>\n",
              "      <td>paper propose new loss function call generalize end end gee loss make training speaker verification model efficient previous tuple base end end tee loss function unlike tee gee loss function update network way emphasizes example difficult verify step training process additionally gee loss require initial stage example selection property model new loss function decrease speaker verification eer reduce training time time also introduce multireader technique allows domain adaptation training accurate model support multiple keywords google hey google well multiple dialect</td>\n",
              "    </tr>\n",
              "    <tr>\n",
              "      <th>3</th>\n",
              "      <td>show integrate weak morphism lie algebra cross module weak morphism lie group develop theory butterfly term linfty algebra particular obtain new description bicategory term linfty algebra use butterfly give functorial construction connect cover lie group also discus notion homotopy fiber morphism term linfty algebra</td>\n",
              "    </tr>\n",
              "    <tr>\n",
              "      <th>4</th>\n",
              "      <td>caustic occur widely dynamic take shape classify catastrophe theory finite wavelength produce interference pattern contain network vortex phase singularity investigate caustic quantize field focus collective dynamic quantum spin show follow quench caustic generate fock space amplitude specify many body configuration accessible experiment cold atom ion photon granularity quantum field remove singularity include phase singularity convert point vortex nonlocal vortex annihilate pair quantization scale increase furthermore continuous scale law wave catastrophe replace discrete version quantum ...</td>\n",
              "    </tr>\n",
              "    <tr>\n",
              "      <th>...</th>\n",
              "      <td>...</td>\n",
              "    </tr>\n",
              "    <tr>\n",
              "      <th>7405</th>\n",
              "      <td>statistical inference evolutionary parameter molecular sequence data relies coalescent model account share genealogical ancestry sample however inferential algorithm scale available data set strategy improve computational efficiency rely simpler coalescent mutation model result small hidden state space estimate cardinality state space genealogical tree different resolution essential decide best model strategy give dataset knowledge neither exact approximate method determine cardinality propose sequential importance sample algorithm estimate cardinality space genealogical tree different coa...</td>\n",
              "    </tr>\n",
              "    <tr>\n",
              "      <th>7406</th>\n",
              "      <td>present deep learn framework base generative adversarial network gan perform super resolution coherent image system demonstrate framework enhance resolution pixel size limited diffraction limited coherent image system experimentally validate capability deep learn base coherent image approach super resolve complex image acquire use lensfree chip holographic microscope resolution pixel size limited use gan base approach also improve resolution lens base holographic image system limited resolution numerical aperture objective lens deep learn base super resolution framework broadly apply enhan...</td>\n",
              "    </tr>\n",
              "    <tr>\n",
              "      <th>7407</th>\n",
              "      <td>cell receptor tcr repertoire data contain information infection could use disease diagnostics vaccine development extract information remains major challenge developed statistical framework detect tcr clone proliferation contraction longitudinal repertoire data apply framework data three pair identical twin immunize yellow fever vaccine identify respond tcrs donor validate use three independent assay respond tcrs mostly private albeit high overlap twin could well predict use classifier base sequence similarity method also apply sample obtain post infection make suitable systematic discover...</td>\n",
              "    </tr>\n",
              "    <tr>\n",
              "      <th>7408</th>\n",
              "      <td>paper provide modern synthesis classic inverse compositional algorithm dense image alignment first discus assumption make well establish technique subsequently propose relax assumption incorporate data driven prior model specifically unroll robust version inverse compositional algorithm replace multiple component algorithm use expressive model whose parameter train end end fashion data experiment several challenge rigid motion estimation task demonstrate advantage combine optimization learn base technique outperform classic inverse compositional algorithm well data driven image pose regres...</td>\n",
              "    </tr>\n",
              "    <tr>\n",
              "      <th>7409</th>\n",
              "      <td>experiment currently harvest lhc collision data cern performance electromagnetic calorimeter ecal constantly monitor work start ass need change detector ensure adequate performance high luminosity lhc lhc run plan beyond paper result run beam test laboratory measurement combine anticipate detector performance evolution lhc various study illustrate provide useful choice electromagnetic calorimetry lhc</td>\n",
              "    </tr>\n",
              "  </tbody>\n",
              "</table>\n",
              "<p>7410 rows × 1 columns</p>\n",
              "</div>"
            ],
            "text/plain": [
              "                                                                                                                                                                                                                                                                                                                                                                                                                                                                                                                                                                                                                         text\n",
              "0     method model average become important tool deal model uncertainty example situation large amount different theory exist common economics model average natural formal response model uncertainty bayesian framework paper deal bayesian model average important role prior assumption bayesian procedure highlight addition frequentist model average method also discuss numerical method implement method explain point reader freely available computational resource main focus uncertainty regard choice covariates normal linear regression model paper also cover challenge setting particular emphasis sampl...\n",
              "1     unmanned aerial vehicle uav system increasingly use broad range scenario application however deployment urban area pose important technical challenge one prominent concern robustness communication ground station uavs highly dynamic crowd spectrum indeed compete data stream may create local temporary congestion impair ground station control uavs main contribution paper robust multi path communication framework uav system framework continuously probe performance multiple wireless multi hop path ground station uav dynamically selects path provide best performance support timely control numeri...\n",
              "2                             paper propose new loss function call generalize end end gee loss make training speaker verification model efficient previous tuple base end end tee loss function unlike tee gee loss function update network way emphasizes example difficult verify step training process additionally gee loss require initial stage example selection property model new loss function decrease speaker verification eer reduce training time time also introduce multireader technique allows domain adaptation training accurate model support multiple keywords google hey google well multiple dialect \n",
              "3                                                                                                                                                                                                                                                                                              show integrate weak morphism lie algebra cross module weak morphism lie group develop theory butterfly term linfty algebra particular obtain new description bicategory term linfty algebra use butterfly give functorial construction connect cover lie group also discus notion homotopy fiber morphism term linfty algebra \n",
              "4     caustic occur widely dynamic take shape classify catastrophe theory finite wavelength produce interference pattern contain network vortex phase singularity investigate caustic quantize field focus collective dynamic quantum spin show follow quench caustic generate fock space amplitude specify many body configuration accessible experiment cold atom ion photon granularity quantum field remove singularity include phase singularity convert point vortex nonlocal vortex annihilate pair quantization scale increase furthermore continuous scale law wave catastrophe replace discrete version quantum ...\n",
              "...                                                                                                                                                                                                                                                                                                                                                                                                                                                                                                                                                                                                                       ...\n",
              "7405  statistical inference evolutionary parameter molecular sequence data relies coalescent model account share genealogical ancestry sample however inferential algorithm scale available data set strategy improve computational efficiency rely simpler coalescent mutation model result small hidden state space estimate cardinality state space genealogical tree different resolution essential decide best model strategy give dataset knowledge neither exact approximate method determine cardinality propose sequential importance sample algorithm estimate cardinality space genealogical tree different coa...\n",
              "7406  present deep learn framework base generative adversarial network gan perform super resolution coherent image system demonstrate framework enhance resolution pixel size limited diffraction limited coherent image system experimentally validate capability deep learn base coherent image approach super resolve complex image acquire use lensfree chip holographic microscope resolution pixel size limited use gan base approach also improve resolution lens base holographic image system limited resolution numerical aperture objective lens deep learn base super resolution framework broadly apply enhan...\n",
              "7407  cell receptor tcr repertoire data contain information infection could use disease diagnostics vaccine development extract information remains major challenge developed statistical framework detect tcr clone proliferation contraction longitudinal repertoire data apply framework data three pair identical twin immunize yellow fever vaccine identify respond tcrs donor validate use three independent assay respond tcrs mostly private albeit high overlap twin could well predict use classifier base sequence similarity method also apply sample obtain post infection make suitable systematic discover...\n",
              "7408  paper provide modern synthesis classic inverse compositional algorithm dense image alignment first discus assumption make well establish technique subsequently propose relax assumption incorporate data driven prior model specifically unroll robust version inverse compositional algorithm replace multiple component algorithm use expressive model whose parameter train end end fashion data experiment several challenge rigid motion estimation task demonstrate advantage combine optimization learn base technique outperform classic inverse compositional algorithm well data driven image pose regres...\n",
              "7409                                                                                                                                                                                                     experiment currently harvest lhc collision data cern performance electromagnetic calorimeter ecal constantly monitor work start ass need change detector ensure adequate performance high luminosity lhc lhc run plan beyond paper result run beam test laboratory measurement combine anticipate detector performance evolution lhc various study illustrate provide useful choice electromagnetic calorimetry lhc \n",
              "\n",
              "[7410 rows x 1 columns]"
            ]
          },
          "metadata": {
            "tags": []
          },
          "execution_count": 22
        }
      ]
    },
    {
      "cell_type": "code",
      "metadata": {
        "id": "xWK3uBtJpa89"
      },
      "source": [
        "#The test data has now been processed, save a copy to the data folder for record keeping purposes.\n",
        "test_df.to_csv(home_directory+data_directory+'/test-dataset.csv',index=False)"
      ],
      "execution_count": 23,
      "outputs": []
    },
    {
      "cell_type": "markdown",
      "metadata": {
        "id": "ECgwVBaNmdsK"
      },
      "source": [
        "**Section 5**\n",
        "\n",
        "Commence Feature Engineering using the fastai package to construct an autoencoder."
      ]
    },
    {
      "cell_type": "code",
      "metadata": {
        "id": "GCSFqgLIpxbb"
      },
      "source": [
        "#Load in the full train dataset to prepare for the encoder training.\n",
        "df = train_df.copy()"
      ],
      "execution_count": 24,
      "outputs": []
    },
    {
      "cell_type": "code",
      "metadata": {
        "id": "yjI07sLiSorE",
        "outputId": "e24e25cf-ee04-4f6b-d5c6-b21c76b91984",
        "colab": {
          "base_uri": "https://localhost:8080/"
        }
      },
      "source": [
        "#Reset the seed value according to the earlier defined function.\n",
        "reset_seed()"
      ],
      "execution_count": 25,
      "outputs": [
        {
          "output_type": "stream",
          "text": [
            "Seed reset to value  123456789\n"
          ],
          "name": "stdout"
        }
      ]
    },
    {
      "cell_type": "code",
      "metadata": {
        "id": "GTvWklTQp1On",
        "outputId": "2cab9bd8-fd02-48f3-b4b2-fef86921888f",
        "colab": {
          "base_uri": "https://localhost:8080/",
          "height": 17
        }
      },
      "source": [
        "def initialise_language_model():\n",
        "  #Construct a data loader for the language model.\n",
        "  dl_lm = TextDataLoaders.from_df(df, text_col='Words', is_lm=True, valid_pct=0.1)\n",
        "\n",
        "  #Declare a learning model, based on a Long-Short Term Memory to predict the next word in the text data.\n",
        "  model = language_model_learner(dl_lm, AWD_LSTM, metrics = accuracy, wd=0.1)\n",
        "\n",
        "  return model\n",
        "\n",
        "#Initialise a new language model using the fastai package.\n",
        "learn = initialise_language_model()"
      ],
      "execution_count": 26,
      "outputs": [
        {
          "output_type": "display_data",
          "data": {
            "text/html": [
              ""
            ],
            "text/plain": [
              "<IPython.core.display.HTML object>"
            ]
          },
          "metadata": {
            "tags": []
          }
        },
        {
          "output_type": "display_data",
          "data": {
            "text/html": [
              ""
            ],
            "text/plain": [
              "<IPython.core.display.HTML object>"
            ]
          },
          "metadata": {
            "tags": []
          }
        }
      ]
    },
    {
      "cell_type": "code",
      "metadata": {
        "id": "Va4wVyAfyL6t",
        "outputId": "fd401e44-163c-41bc-9cd3-4bc5db5fb748",
        "colab": {
          "base_uri": "https://localhost:8080/",
          "height": 283
        }
      },
      "source": [
        "#Use the lr_find method to select the best learning rate for the one-cycle_fit method.\n",
        "best_lr = learn.lr_find()"
      ],
      "execution_count": 27,
      "outputs": [
        {
          "output_type": "display_data",
          "data": {
            "text/html": [
              ""
            ],
            "text/plain": [
              "<IPython.core.display.HTML object>"
            ]
          },
          "metadata": {
            "tags": []
          }
        },
        {
          "output_type": "display_data",
          "data": {
            "image/png": "[encoded data removed]",
            "text/plain": [
              "<Figure size 432x288 with 1 Axes>"
            ]
          },
          "metadata": {
            "tags": [],
            "needs_background": "light"
          }
        }
      ]
    },
    {
      "cell_type": "code",
      "metadata": {
        "id": "vrtOeXiSqEov"
      },
      "source": [
        "#Create a function to carry out the language model training schedule.\n",
        "def train_language_model(model):\n",
        "  # Choose some of the learning rates in reference to the graph above\n",
        "\n",
        "  # train the model with 1 epoch and 0.01 learning rate\n",
        "  learn.fit_one_cycle(1, 1e-2)\n",
        "  \n",
        "  # Freeze all other than the last two parameter group and train the model again with 1 epoch\n",
        "  # using different learning rate \n",
        "  model.freeze_to(-2)\n",
        "  model.fit_one_cycle(1, slice(1e-2/(2.6**4),1e-2))\n",
        "  \n",
        "  # Unfreeze one more layer (freeze other than the last three) and train again with 1 epoch\n",
        "  # using different learning rate \n",
        "  model.freeze_to(-3)\n",
        "  model.fit_one_cycle(1, slice(5e-3/(2.6**4),5e-3))\n",
        "\n",
        "  # Unfreeze all of the layer (use the whole model)\n",
        "  model.unfreeze()  \n",
        "  # Train again for the last time with 5 epochs and 0.001 learning rate\n",
        "  model.fit_one_cycle(5, 1e-3)  \n",
        "  \n",
        "  #save the language encoder into our file to be used later\n",
        "  model.save_encoder(home_directory+language_directory+'/language_model-new')"
      ],
      "execution_count": 28,
      "outputs": []
    },
    {
      "cell_type": "code",
      "metadata": {
        "id": "KQqJoUz8qH5n",
        "outputId": "db31b8b1-2b68-4ca9-b47c-f2dc7016845f",
        "colab": {
          "base_uri": "https://localhost:8080/",
          "height": 387
        }
      },
      "source": [
        "train_language_model(learn)"
      ],
      "execution_count": 29,
      "outputs": [
        {
          "output_type": "display_data",
          "data": {
            "text/html": [
              "<table border=\"1\" class=\"dataframe\">\n",
              "  <thead>\n",
              "    <tr style=\"text-align: left;\">\n",
              "      <th>epoch</th>\n",
              "      <th>train_loss</th>\n",
              "      <th>valid_loss</th>\n",
              "      <th>accuracy</th>\n",
              "      <th>time</th>\n",
              "    </tr>\n",
              "  </thead>\n",
              "  <tbody>\n",
              "    <tr>\n",
              "      <td>0</td>\n",
              "      <td>6.964817</td>\n",
              "      <td>6.601659</td>\n",
              "      <td>0.075579</td>\n",
              "      <td>02:53</td>\n",
              "    </tr>\n",
              "  </tbody>\n",
              "</table>"
            ],
            "text/plain": [
              "<IPython.core.display.HTML object>"
            ]
          },
          "metadata": {
            "tags": []
          }
        },
        {
          "output_type": "display_data",
          "data": {
            "text/html": [
              "<table border=\"1\" class=\"dataframe\">\n",
              "  <thead>\n",
              "    <tr style=\"text-align: left;\">\n",
              "      <th>epoch</th>\n",
              "      <th>train_loss</th>\n",
              "      <th>valid_loss</th>\n",
              "      <th>accuracy</th>\n",
              "      <th>time</th>\n",
              "    </tr>\n",
              "  </thead>\n",
              "  <tbody>\n",
              "    <tr>\n",
              "      <td>0</td>\n",
              "      <td>6.609570</td>\n",
              "      <td>6.345124</td>\n",
              "      <td>0.090517</td>\n",
              "      <td>02:55</td>\n",
              "    </tr>\n",
              "  </tbody>\n",
              "</table>"
            ],
            "text/plain": [
              "<IPython.core.display.HTML object>"
            ]
          },
          "metadata": {
            "tags": []
          }
        },
        {
          "output_type": "display_data",
          "data": {
            "text/html": [
              "<table border=\"1\" class=\"dataframe\">\n",
              "  <thead>\n",
              "    <tr style=\"text-align: left;\">\n",
              "      <th>epoch</th>\n",
              "      <th>train_loss</th>\n",
              "      <th>valid_loss</th>\n",
              "      <th>accuracy</th>\n",
              "      <th>time</th>\n",
              "    </tr>\n",
              "  </thead>\n",
              "  <tbody>\n",
              "    <tr>\n",
              "      <td>0</td>\n",
              "      <td>6.397820</td>\n",
              "      <td>6.213378</td>\n",
              "      <td>0.099171</td>\n",
              "      <td>03:10</td>\n",
              "    </tr>\n",
              "  </tbody>\n",
              "</table>"
            ],
            "text/plain": [
              "<IPython.core.display.HTML object>"
            ]
          },
          "metadata": {
            "tags": []
          }
        },
        {
          "output_type": "display_data",
          "data": {
            "text/html": [
              "<table border=\"1\" class=\"dataframe\">\n",
              "  <thead>\n",
              "    <tr style=\"text-align: left;\">\n",
              "      <th>epoch</th>\n",
              "      <th>train_loss</th>\n",
              "      <th>valid_loss</th>\n",
              "      <th>accuracy</th>\n",
              "      <th>time</th>\n",
              "    </tr>\n",
              "  </thead>\n",
              "  <tbody>\n",
              "    <tr>\n",
              "      <td>0</td>\n",
              "      <td>6.240327</td>\n",
              "      <td>6.162550</td>\n",
              "      <td>0.103230</td>\n",
              "      <td>03:20</td>\n",
              "    </tr>\n",
              "    <tr>\n",
              "      <td>1</td>\n",
              "      <td>6.158850</td>\n",
              "      <td>6.073555</td>\n",
              "      <td>0.109742</td>\n",
              "      <td>03:19</td>\n",
              "    </tr>\n",
              "    <tr>\n",
              "      <td>2</td>\n",
              "      <td>6.060542</td>\n",
              "      <td>5.995812</td>\n",
              "      <td>0.116129</td>\n",
              "      <td>03:20</td>\n",
              "    </tr>\n",
              "    <tr>\n",
              "      <td>3</td>\n",
              "      <td>5.952500</td>\n",
              "      <td>5.954308</td>\n",
              "      <td>0.119596</td>\n",
              "      <td>03:19</td>\n",
              "    </tr>\n",
              "    <tr>\n",
              "      <td>4</td>\n",
              "      <td>5.895255</td>\n",
              "      <td>5.944240</td>\n",
              "      <td>0.120648</td>\n",
              "      <td>03:19</td>\n",
              "    </tr>\n",
              "  </tbody>\n",
              "</table>"
            ],
            "text/plain": [
              "<IPython.core.display.HTML object>"
            ]
          },
          "metadata": {
            "tags": []
          }
        }
      ]
    },
    {
      "cell_type": "markdown",
      "metadata": {
        "id": "NpTlVos84oQB"
      },
      "source": [
        "**Section 6**\n",
        "\n",
        "Commence Word Classifier Model Development using the fastai package to build an ULMFiT.  "
      ]
    },
    {
      "cell_type": "code",
      "metadata": {
        "id": "0xuRCstBqKMH"
      },
      "source": [
        "def initalise_classifier(input_df):\n",
        "  #Construct a data loader for the abstract classifier.\n",
        "  d_class = TextDataLoaders.from_df(input_df, text_col='Words', label_col='Label', valid_col='test')\n",
        "\n",
        "  #Decalre a new model, also based on a Long-Short Term Memory to predict the abstract class.\n",
        "  model = text_classifier_learner(dls = d_class, arch = AWD_LSTM, drop_mult = 0.5,  metrics=accuracy)\n",
        "  #Load our previously saved encoder on top of our new model, to transfer the learning to the new model.\n",
        "  model = model.load_encoder(home_directory+language_directory+'/language_model-new')\n",
        "\n",
        "  return model"
      ],
      "execution_count": 30,
      "outputs": []
    },
    {
      "cell_type": "code",
      "metadata": {
        "id": "95w0NXAYzWFI",
        "outputId": "132b7161-0ef7-4503-c0e4-cdce757da2c0",
        "colab": {
          "base_uri": "https://localhost:8080/",
          "height": 17
        }
      },
      "source": [
        "#Construct the new model\n",
        "learn = initalise_classifier(df)"
      ],
      "execution_count": 31,
      "outputs": [
        {
          "output_type": "display_data",
          "data": {
            "text/html": [
              ""
            ],
            "text/plain": [
              "<IPython.core.display.HTML object>"
            ]
          },
          "metadata": {
            "tags": []
          }
        }
      ]
    },
    {
      "cell_type": "code",
      "metadata": {
        "id": "32-qx23jy_Ag",
        "outputId": "7a4ace80-e967-4a97-b5d8-b7d091367d8a",
        "colab": {
          "base_uri": "https://localhost:8080/",
          "height": 283
        }
      },
      "source": [
        "#Use the lr_find method to select the best learning rate for the one-cycle_fit method.\n",
        "best_lr = learn.lr_find()"
      ],
      "execution_count": 32,
      "outputs": [
        {
          "output_type": "display_data",
          "data": {
            "text/html": [
              ""
            ],
            "text/plain": [
              "<IPython.core.display.HTML object>"
            ]
          },
          "metadata": {
            "tags": []
          }
        },
        {
          "output_type": "display_data",
          "data": {
            "image/png": "[encoded data removed]",
            "text/plain": [
              "<Figure size 432x288 with 1 Axes>"
            ]
          },
          "metadata": {
            "tags": [],
            "needs_background": "light"
          }
        }
      ]
    },
    {
      "cell_type": "code",
      "metadata": {
        "id": "pjSwc7tsqMQw"
      },
      "source": [
        "#Create a function to carry out the classifier training schedule.\n",
        "def train_classifier_model(model):\n",
        "  # Choose some of the learning rates in reference to the graph above  \n",
        "\n",
        "  # train the model with 1 epoch and 0.01 learning rate\n",
        "  model.fit_one_cycle(1, 1e-2)\n",
        "\n",
        "  # Freeze all other than the last two parameter group and train the model again with 1 epoch\n",
        "  # using different learning rate \n",
        "  model.freeze_to(-2)\n",
        "  model.fit_one_cycle(1, slice(1e-2/(2.6**4),1e-2))\n",
        "\n",
        "  # Unfreeze one more layer (freeze other than the last three) and train again with 1 epoch\n",
        "  # using different learning rate\n",
        "  model.freeze_to(-3)\n",
        "  model.fit_one_cycle(1, slice(5e-3/(2.6**4),5e-3))\n",
        "\n",
        "  # Unfreeze all of the layer (use the whole model)\n",
        "  model.unfreeze()\n",
        "  # Train again for the last time with 2 epochs\n",
        "  model.fit_one_cycle(2, slice(1e-3/(2.6**4),1e-3))\n",
        "\n",
        "  # return trained model\n",
        "  return model"
      ],
      "execution_count": 33,
      "outputs": []
    },
    {
      "cell_type": "code",
      "metadata": {
        "id": "kHnohiFpy8-B",
        "outputId": "a52facbe-91b7-4fe3-d142-503cf56d231a",
        "colab": {
          "base_uri": "https://localhost:8080/",
          "height": 295
        }
      },
      "source": [
        "#Train the classifier\n",
        "learn = train_classifier_model(learn)"
      ],
      "execution_count": 34,
      "outputs": [
        {
          "output_type": "display_data",
          "data": {
            "text/html": [
              "<table border=\"1\" class=\"dataframe\">\n",
              "  <thead>\n",
              "    <tr style=\"text-align: left;\">\n",
              "      <th>epoch</th>\n",
              "      <th>train_loss</th>\n",
              "      <th>valid_loss</th>\n",
              "      <th>accuracy</th>\n",
              "      <th>time</th>\n",
              "    </tr>\n",
              "  </thead>\n",
              "  <tbody>\n",
              "    <tr>\n",
              "      <td>0</td>\n",
              "      <td>2.004912</td>\n",
              "      <td>1.598627</td>\n",
              "      <td>0.544046</td>\n",
              "      <td>00:48</td>\n",
              "    </tr>\n",
              "  </tbody>\n",
              "</table>"
            ],
            "text/plain": [
              "<IPython.core.display.HTML object>"
            ]
          },
          "metadata": {
            "tags": []
          }
        },
        {
          "output_type": "display_data",
          "data": {
            "text/html": [
              "<table border=\"1\" class=\"dataframe\">\n",
              "  <thead>\n",
              "    <tr style=\"text-align: left;\">\n",
              "      <th>epoch</th>\n",
              "      <th>train_loss</th>\n",
              "      <th>valid_loss</th>\n",
              "      <th>accuracy</th>\n",
              "      <th>time</th>\n",
              "    </tr>\n",
              "  </thead>\n",
              "  <tbody>\n",
              "    <tr>\n",
              "      <td>0</td>\n",
              "      <td>1.719395</td>\n",
              "      <td>1.566611</td>\n",
              "      <td>0.548257</td>\n",
              "      <td>00:52</td>\n",
              "    </tr>\n",
              "  </tbody>\n",
              "</table>"
            ],
            "text/plain": [
              "<IPython.core.display.HTML object>"
            ]
          },
          "metadata": {
            "tags": []
          }
        },
        {
          "output_type": "display_data",
          "data": {
            "text/html": [
              "<table border=\"1\" class=\"dataframe\">\n",
              "  <thead>\n",
              "    <tr style=\"text-align: left;\">\n",
              "      <th>epoch</th>\n",
              "      <th>train_loss</th>\n",
              "      <th>valid_loss</th>\n",
              "      <th>accuracy</th>\n",
              "      <th>time</th>\n",
              "    </tr>\n",
              "  </thead>\n",
              "  <tbody>\n",
              "    <tr>\n",
              "      <td>0</td>\n",
              "      <td>1.597906</td>\n",
              "      <td>1.513465</td>\n",
              "      <td>0.556678</td>\n",
              "      <td>01:17</td>\n",
              "    </tr>\n",
              "  </tbody>\n",
              "</table>"
            ],
            "text/plain": [
              "<IPython.core.display.HTML object>"
            ]
          },
          "metadata": {
            "tags": []
          }
        },
        {
          "output_type": "display_data",
          "data": {
            "text/html": [
              "<table border=\"1\" class=\"dataframe\">\n",
              "  <thead>\n",
              "    <tr style=\"text-align: left;\">\n",
              "      <th>epoch</th>\n",
              "      <th>train_loss</th>\n",
              "      <th>valid_loss</th>\n",
              "      <th>accuracy</th>\n",
              "      <th>time</th>\n",
              "    </tr>\n",
              "  </thead>\n",
              "  <tbody>\n",
              "    <tr>\n",
              "      <td>0</td>\n",
              "      <td>1.414588</td>\n",
              "      <td>1.514310</td>\n",
              "      <td>0.556342</td>\n",
              "      <td>01:38</td>\n",
              "    </tr>\n",
              "    <tr>\n",
              "      <td>1</td>\n",
              "      <td>1.297370</td>\n",
              "      <td>1.506875</td>\n",
              "      <td>0.557015</td>\n",
              "      <td>01:38</td>\n",
              "    </tr>\n",
              "  </tbody>\n",
              "</table>"
            ],
            "text/plain": [
              "<IPython.core.display.HTML object>"
            ]
          },
          "metadata": {
            "tags": []
          }
        }
      ]
    },
    {
      "cell_type": "code",
      "metadata": {
        "id": "14StbhM1qQJy"
      },
      "source": [
        "#Load in the test data into a dataframe.\n",
        "df_test = test_df.copy()\n",
        "\n",
        "#Construct a data loader with the test data.\n",
        "d_test = learn.dls.test_dl(df_test, reorder=True, with_labels=False)"
      ],
      "execution_count": 35,
      "outputs": []
    },
    {
      "cell_type": "code",
      "metadata": {
        "id": "hmzhhYyiqQ5c",
        "outputId": "dbe0d461-bc1c-4957-ceb5-372a68ac374f",
        "colab": {
          "base_uri": "https://localhost:8080/",
          "height": 17
        }
      },
      "source": [
        "#get the prediction for our test data \n",
        "#(the probability results for all of the labels and the label with the maximum probability)\n",
        "preds, _, classes = learn.get_preds(dl=d_test, reorder=True, with_decoded=True)"
      ],
      "execution_count": 36,
      "outputs": [
        {
          "output_type": "display_data",
          "data": {
            "text/html": [
              ""
            ],
            "text/plain": [
              "<IPython.core.display.HTML object>"
            ]
          },
          "metadata": {
            "tags": []
          }
        }
      ]
    },
    {
      "cell_type": "code",
      "metadata": {
        "id": "Ye6aaptTqUNx"
      },
      "source": [
        "#create new column called 'label' that store the predicted label values\n",
        "df_test['label']=[learn.dls.vocab[1][int(x)] for x in classes]\n",
        "#create new column called 'test_id' that stores the index\n",
        "df_test['test_id'] = df_test.index + 1"
      ],
      "execution_count": 37,
      "outputs": []
    },
    {
      "cell_type": "code",
      "metadata": {
        "id": "yLt7x2cEqV9V"
      },
      "source": [
        "#Export the current classifier model\n",
        "learn.export(home_directory+model_directory+'/final_model.pkl')\n",
        "\n",
        "#Export the predictions\n",
        "df_test[['test_id','label']].to_csv(home_directory+output_directory+'/pred_labels.csv', index=False)"
      ],
      "execution_count": 38,
      "outputs": []
    }
  ]
}